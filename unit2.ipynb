{
 "cells": [
  {
   "cell_type": "markdown",
   "id": "c6602a53-290b-46de-9c0c-4f6f31e37c25",
   "metadata": {},
   "source": [
    "---\n",
    "title: \"Unit 2: Notebook\"\n",
    "math:\n",
    "  '\\trans': '^\\mathsf{T}'\n",
    "  '\\eps': '\\epsilon'\n",
    "---"
   ]
  },
  {
   "cell_type": "markdown",
   "id": "28cedc95-6340-4cdc-9a79-e58a750146d4",
   "metadata": {},
   "source": [
    ":::{warning}\n",
    "Code cells are not yet actually executed when the page is built. For Jupyter notebooks, you can run the cells in a Jupyter session and the output will be shown in your rendered document, as seen here.\n",
    ":::"
   ]
  },
  {
   "cell_type": "markdown",
   "id": "a2bdb719-2d6f-4154-82be-e58ec6b58054",
   "metadata": {},
   "source": [
    "This is the mean of some random numbers using numpy."
   ]
  },
  {
   "cell_type": "code",
   "execution_count": 1,
   "id": "c62b93b2-c991-444b-9231-990d4ff8e4db",
   "metadata": {},
   "outputs": [
    {
     "data": {
      "text/plain": [
       "0.12924344055445472"
      ]
     },
     "execution_count": 1,
     "metadata": {},
     "output_type": "execute_result"
    }
   ],
   "source": [
    "import numpy as np\n",
    "np.mean(np.random.normal(size=100))"
   ]
  },
  {
   "cell_type": "markdown",
   "id": "cb282ac2-7116-4205-8106-38005d53a3df",
   "metadata": {},
   "source": [
    "$$\n",
    "\\theta = \\int_0^\\infty f(x,\\theta)d\\theta\n",
    "$$"
   ]
  },
  {
   "cell_type": "markdown",
   "id": "5a81e150-3c48-4076-9a2d-fbf11a9a4f6a",
   "metadata": {},
   "source": [
    "Use a $\\LaTeX$ macro."
   ]
  },
  {
   "cell_type": "markdown",
   "id": "f2222140-5864-4d61-a89b-2b51a7ab76a0",
   "metadata": {},
   "source": [
    "$$\n",
    "A = X \\trans Y\n",
    "$$"
   ]
  }
 ],
 "metadata": {
  "kernelspec": {
   "display_name": "Python 3 (ipykernel)",
   "language": "python",
   "name": "python3"
  },
  "language_info": {
   "codemirror_mode": {
    "name": "ipython",
    "version": 3
   },
   "file_extension": ".py",
   "mimetype": "text/x-python",
   "name": "python",
   "nbconvert_exporter": "python",
   "pygments_lexer": "ipython3",
   "version": "3.11.0"
  }
 },
 "nbformat": 4,
 "nbformat_minor": 5
}
